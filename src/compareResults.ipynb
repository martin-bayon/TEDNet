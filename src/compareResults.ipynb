{
 "cells": [
  {
   "cell_type": "code",
   "execution_count": null,
   "metadata": {
    "collapsed": true
   },
   "outputs": [],
   "source": [
    "import pathlib\n",
    "from PIL import Image, ImageDraw, ImageFont"
   ]
  },
  {
   "cell_type": "code",
   "execution_count": null,
   "outputs": [],
   "source": [
    "dataDir = '../Resources/KittiDataset/data_road/testing/'\n",
    "\n",
    "bevImagesFolder = \"bev_image_2/\"\n",
    "masksFolder = \"my_results_1/\"\n",
    "masksFolder2 = \"my_results_2/\"\n",
    "#masksFolder3 = \"my_results_3/\"\n",
    "#masksFolder4 = \"my_results_4/\"\n",
    "#masksFolder5 = \"my_results_5/\"\n",
    "\n",
    "defImageFolder = \"image_2/\"\n",
    "veloFolder = \"bev_velodyne/\"\n",
    "outputFolder = \"outputCompare/\"\n",
    "\n",
    "bevImagesDir = pathlib.Path(dataDir+bevImagesFolder)\n",
    "maskDir = pathlib.Path(dataDir+masksFolder)\n",
    "maskDir2 = pathlib.Path(dataDir+masksFolder2)\n",
    "#maskDir3 = pathlib.Path(dataDir+masksFolder3)\n",
    "#maskDir4 = pathlib.Path(dataDir+masksFolder4)\n",
    "#maskDir5 = pathlib.Path(dataDir+masksFolder5)\n",
    "\n",
    "defImageDir = pathlib.Path(dataDir+defImageFolder)\n",
    "veloDir = pathlib.Path(dataDir+veloFolder)\n",
    "outputDir = pathlib.Path(dataDir+outputFolder)\n",
    "\n",
    "\n",
    "bevImages = list(bevImagesDir.glob('*.png'))\n",
    "masks = list(maskDir.glob('*.png'))"
   ],
   "metadata": {
    "collapsed": false,
    "pycharm": {
     "name": "#%%\n"
    }
   }
  },
  {
   "cell_type": "code",
   "execution_count": null,
   "outputs": [],
   "source": [
    "#bevImages = bevImages[0:1]"
   ],
   "metadata": {
    "collapsed": false,
    "pycharm": {
     "name": "#%%\n"
    }
   }
  },
  {
   "cell_type": "code",
   "execution_count": null,
   "outputs": [],
   "source": [
    "print(len(bevImages))\n",
    "i=0\n",
    "for bevImgPath in bevImages:\n",
    "    fileName = str(bevImgPath).split(\"\\\\\")[-1]\n",
    "    splittedfileName = fileName.split(\"_\")\n",
    "    maskFileName = splittedfileName[0] + '_road_' + splittedfileName[1]\n",
    "    maskPath = maskDir / maskFileName\n",
    "    maskPath2 = maskDir2 / maskFileName\n",
    "    #maskPath3 = maskDir3 / maskFileName\n",
    "    #maskPath4 = maskDir4 / maskFileName\n",
    "    #maskPath5 = maskDir5 / maskFileName\n",
    "\n",
    "    defImagePath = defImageDir / fileName\n",
    "    veloImagePath = veloDir / fileName\n",
    "\n",
    "    bevImage = Image.open(bevImgPath)\n",
    "    defImage = Image.open(defImagePath)\n",
    "\n",
    "    veloImage = Image.open(veloImagePath)\n",
    "\n",
    "    mask = Image.open(maskPath)\n",
    "    mask = Image.merge('RGB', [mask,mask,mask])\n",
    "\n",
    "    mask2 = Image.open(maskPath2)\n",
    "    mask2 = Image.merge('RGB', [mask2,mask2,mask2])\n",
    "\n",
    "    #mask3 = Image.open(maskPath3)\n",
    "    #mask3 = Image.merge('RGB', [mask3,mask3,mask3])\n",
    "\n",
    "    #mask4 = Image.open(maskPath4)\n",
    "    #mask4 = Image.merge('RGB', [mask4,mask4,mask4])\n",
    "\n",
    "    #mask5 = Image.open(maskPath5)\n",
    "    #mask5 = Image.merge('RGB', [mask5,mask5,mask5])\n",
    "\n",
    "    blendedmask = Image.blend(bevImage, mask, alpha=0.5)\n",
    "    blendedmask2 = Image.blend(bevImage, mask2, alpha=0.5)\n",
    "    #blendedmask3 = Image.blend(bevImage, mask3, alpha=0.5)\n",
    "    #blendedmask4 = Image.blend(bevImage, mask4, alpha=0.5)\n",
    "    #blendedmask5 = Image.blend(bevImage, mask5, alpha=0.5)\n",
    "\n",
    "    width, height = bevImage.size\n",
    "    total_width = width*4\n",
    "    max_height = height+50 + 375\n",
    "\n",
    "    combined = Image.new('RGB', (total_width, max_height))\n",
    "\n",
    "    x_offset = 0\n",
    "    for im in [bevImage, veloImage, blendedmask,blendedmask2]:\n",
    "      combined.paste(im, (x_offset,50))\n",
    "      x_offset += im.size[0]\n",
    "\n",
    "    combined.paste(defImage, (0,850))\n",
    "\n",
    "    ImageDraw.Draw(combined).text((170, 0),'Image',(255, 255, 255), font=ImageFont.truetype('arial.ttf',40))\n",
    "    ImageDraw.Draw(combined).text((550, 0),'Lidar',(255, 255, 255), font=ImageFont.truetype('arial.ttf',40))\n",
    "    ImageDraw.Draw(combined).text((950, 0),'result1',(255, 255, 255), font=ImageFont.truetype('arial.ttf',40))\n",
    "    ImageDraw.Draw(combined).text((1350, 0),'result2',(255, 255, 255), font=ImageFont.truetype('arial.ttf',40))\n",
    "    #ImageDraw.Draw(combined).text((1750, 0),'result3',(255, 255, 255), font=ImageFont.truetype('arial.ttf',40))\n",
    "    #ImageDraw.Draw(combined).text((2150, 0),'result4',(255, 255, 255), font=ImageFont.truetype('arial.ttf',40))\n",
    "    #ImageDraw.Draw(combined).text((2550, 0),'result5',(255, 255, 255), font=ImageFont.truetype('arial.ttf',40))\n",
    "\n",
    "    outputPath = outputDir / maskFileName\n",
    "\n",
    "    #combined.show()\n",
    "\n",
    "    combined.save(outputPath)\n",
    "    print(i)\n",
    "    i +=1"
   ],
   "metadata": {
    "collapsed": false,
    "pycharm": {
     "name": "#%%\n"
    }
   }
  },
  {
   "cell_type": "code",
   "execution_count": null,
   "outputs": [],
   "source": [
    "print(\"Done\")"
   ],
   "metadata": {
    "collapsed": false,
    "pycharm": {
     "name": "#%%\n"
    }
   }
  }
 ],
 "metadata": {
  "kernelspec": {
   "display_name": "Python 3",
   "language": "python",
   "name": "python3"
  },
  "language_info": {
   "codemirror_mode": {
    "name": "ipython",
    "version": 2
   },
   "file_extension": ".py",
   "mimetype": "text/x-python",
   "name": "python",
   "nbconvert_exporter": "python",
   "pygments_lexer": "ipython2",
   "version": "2.7.6"
  }
 },
 "nbformat": 4,
 "nbformat_minor": 0
}
